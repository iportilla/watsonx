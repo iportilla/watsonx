{
 "cells": [
  {
   "cell_type": "markdown",
   "metadata": {},
   "source": [
    "## Watsonx Lab 2\n",
    "\n",
    "### Prompt Engineering guidelines\n",
    "\n",
    "https://www.coursera.org/\n"
   ]
  },
  {
   "cell_type": "code",
   "execution_count": 1,
   "metadata": {},
   "outputs": [
    {
     "name": "stdout",
     "output_type": "stream",
     "text": [
      "Requirement already satisfied: ibm-watsonx-ai in /Users/jportilla/anaconda3/envs/3.11/lib/python3.11/site-packages (1.0.11)\n",
      "Requirement already satisfied: requests in /Users/jportilla/anaconda3/envs/3.11/lib/python3.11/site-packages (from ibm-watsonx-ai) (2.32.3)\n",
      "Requirement already satisfied: urllib3 in /Users/jportilla/anaconda3/envs/3.11/lib/python3.11/site-packages (from ibm-watsonx-ai) (2.1.0)\n",
      "Requirement already satisfied: pandas<2.2.0,>=0.24.2 in /Users/jportilla/anaconda3/envs/3.11/lib/python3.11/site-packages (from ibm-watsonx-ai) (2.1.4)\n",
      "Requirement already satisfied: certifi in /Users/jportilla/anaconda3/envs/3.11/lib/python3.11/site-packages (from ibm-watsonx-ai) (2024.2.2)\n",
      "Requirement already satisfied: lomond in /Users/jportilla/anaconda3/envs/3.11/lib/python3.11/site-packages (from ibm-watsonx-ai) (0.3.3)\n",
      "Requirement already satisfied: tabulate in /Users/jportilla/anaconda3/envs/3.11/lib/python3.11/site-packages (from ibm-watsonx-ai) (0.9.0)\n",
      "Requirement already satisfied: packaging in /Users/jportilla/anaconda3/envs/3.11/lib/python3.11/site-packages (from ibm-watsonx-ai) (23.2)\n",
      "Requirement already satisfied: ibm-cos-sdk<2.14.0,>=2.12.0 in /Users/jportilla/anaconda3/envs/3.11/lib/python3.11/site-packages (from ibm-watsonx-ai) (2.13.5)\n",
      "Requirement already satisfied: importlib-metadata in /Users/jportilla/anaconda3/envs/3.11/lib/python3.11/site-packages (from ibm-watsonx-ai) (7.0.1)\n",
      "Requirement already satisfied: ibm-cos-sdk-core==2.13.5 in /Users/jportilla/anaconda3/envs/3.11/lib/python3.11/site-packages (from ibm-cos-sdk<2.14.0,>=2.12.0->ibm-watsonx-ai) (2.13.5)\n",
      "Requirement already satisfied: ibm-cos-sdk-s3transfer==2.13.5 in /Users/jportilla/anaconda3/envs/3.11/lib/python3.11/site-packages (from ibm-cos-sdk<2.14.0,>=2.12.0->ibm-watsonx-ai) (2.13.5)\n",
      "Requirement already satisfied: jmespath<=1.0.1,>=0.10.0 in /Users/jportilla/anaconda3/envs/3.11/lib/python3.11/site-packages (from ibm-cos-sdk<2.14.0,>=2.12.0->ibm-watsonx-ai) (1.0.1)\n",
      "Requirement already satisfied: python-dateutil<3.0.0,>=2.9.0 in /Users/jportilla/anaconda3/envs/3.11/lib/python3.11/site-packages (from ibm-cos-sdk-core==2.13.5->ibm-cos-sdk<2.14.0,>=2.12.0->ibm-watsonx-ai) (2.9.0.post0)\n",
      "Requirement already satisfied: numpy<2,>=1.23.2 in /Users/jportilla/anaconda3/envs/3.11/lib/python3.11/site-packages (from pandas<2.2.0,>=0.24.2->ibm-watsonx-ai) (1.26.4)\n",
      "Requirement already satisfied: pytz>=2020.1 in /Users/jportilla/anaconda3/envs/3.11/lib/python3.11/site-packages (from pandas<2.2.0,>=0.24.2->ibm-watsonx-ai) (2024.1)\n",
      "Requirement already satisfied: tzdata>=2022.1 in /Users/jportilla/anaconda3/envs/3.11/lib/python3.11/site-packages (from pandas<2.2.0,>=0.24.2->ibm-watsonx-ai) (2024.1)\n",
      "Requirement already satisfied: charset-normalizer<4,>=2 in /Users/jportilla/anaconda3/envs/3.11/lib/python3.11/site-packages (from requests->ibm-watsonx-ai) (3.3.2)\n",
      "Requirement already satisfied: idna<4,>=2.5 in /Users/jportilla/anaconda3/envs/3.11/lib/python3.11/site-packages (from requests->ibm-watsonx-ai) (2.10)\n",
      "Requirement already satisfied: zipp>=0.5 in /Users/jportilla/anaconda3/envs/3.11/lib/python3.11/site-packages (from importlib-metadata->ibm-watsonx-ai) (3.17.0)\n",
      "Requirement already satisfied: six>=1.10.0 in /Users/jportilla/anaconda3/envs/3.11/lib/python3.11/site-packages (from lomond->ibm-watsonx-ai) (1.16.0)\n"
     ]
    }
   ],
   "source": [
    "!pip install ibm-watsonx-ai"
   ]
  },
  {
   "cell_type": "markdown",
   "metadata": {},
   "source": [
    "!pip install ibm-watsonx-ai"
   ]
  },
  {
   "cell_type": "code",
   "execution_count": 2,
   "metadata": {},
   "outputs": [
    {
     "name": "stdout",
     "output_type": "stream",
     "text": [
      "Requirement already satisfied: python-dotenv in /Users/jportilla/anaconda3/envs/3.11/lib/python3.11/site-packages (1.0.1)\n"
     ]
    }
   ],
   "source": [
    "!pip install python-dotenv"
   ]
  },
  {
   "cell_type": "code",
   "execution_count": 3,
   "metadata": {},
   "outputs": [],
   "source": [
    "from ibm_watsonx_ai import APIClient\n",
    "from ibm_watsonx_ai import Credentials\n",
    "from ibm_watsonx_ai.foundation_models import ModelInference\n",
    "from dotenv import load_dotenv\n",
    "import os\n",
    "\n",
    "# Load environment variables from .env file\n",
    "load_dotenv()\n",
    "\n",
    "# Get the API key from the environment variable\n",
    "api_key = os.getenv('API_KEY')\n",
    "# Get the project ID from the environment variable\n",
    "project_id = os.getenv('PROJECT_ID')\n",
    "\n",
    "credentials = Credentials(\n",
    "    url=\"https://us-south.ml.cloud.ibm.com\",\n",
    "    api_key=api_key\n",
    ")\n",
    "\n",
    "client = APIClient(credentials)"
   ]
  },
  {
   "cell_type": "code",
   "execution_count": 4,
   "metadata": {},
   "outputs": [
    {
     "name": "stderr",
     "output_type": "stream",
     "text": [
      "/Users/jportilla/anaconda3/envs/3.11/lib/python3.11/site-packages/ibm_watsonx_ai/foundation_models/utils/utils.py:389: LifecycleWarning: Model 'ibm/granite-13b-chat-v2' is in deprecated state from 2024-11-04 until 2025-02-03. IDs of alternative models: None. Further details: https://dataplatform.cloud.ibm.com/docs/content/wsj/analyze-data/fm-model-lifecycle.html?context=wx&audience=wdp\n",
      "  warnings.warn(\n"
     ]
    },
    {
     "name": "stdout",
     "output_type": "stream",
     "text": [
      "{'model_id': 'ibm/granite-13b-chat-v2', 'model_version': '2.1.0', 'created_at': '2024-10-30T15:10:24.529Z', 'results': [{'generated_text': \"\\nThe distance between Bangalore and Denver is approximately 13360 miles. The estimated flight time is around 22 hours and 30 minutes. However, it's important to note that this is a direct flight, and the actual travel time may vary depending on factors such as wind speed, air traffic, and the specific aircraft used.\\n\\nTo break down the distance further, the straight-line distance between Bangalore and Denver is about 9,000 miles, but the actual distance traveled by the aircraft will be\", 'generated_token_count': 100, 'input_token_count': 8, 'stop_reason': 'max_tokens'}]}\n",
      "\n",
      "The distance between Bangalore and Denver is approximately 13360 miles. The estimated flight time is around 22 hours and 30 minutes. However, it's important to note that this is a direct flight, and the actual travel time may vary depending on factors such as wind speed, air traffic, and the specific aircraft used.\n",
      "\n",
      "To break down the distance further, the straight-line distance between Bangalore and Denver is about 9,000 miles, but the actual distance traveled by the aircraft will be\n"
     ]
    }
   ],
   "source": [
    "from dotenv import load_dotenv\n",
    "import os\n",
    "\n",
    "# Load environment variables from .env file\n",
    "load_dotenv()\n",
    "\n",
    "model = ModelInference(\n",
    "  model_id=\"ibm/granite-13b-chat-v2\",\n",
    "  # model_id= \"mistralai/mistral-large\",\n",
    "  api_client=client,\n",
    "  project_id=project_id,\n",
    "  params = {\n",
    "      \"max_new_tokens\": 100\n",
    "  }\n",
    ")\n",
    "\n",
    "prompt = 'How far is Denver from Bangalore?'\n",
    "print(model.generate(prompt))\n",
    "print(model.generate_text(prompt))"
   ]
  },
  {
   "cell_type": "code",
   "execution_count": null,
   "metadata": {},
   "outputs": [],
   "source": []
  },
  {
   "cell_type": "code",
   "execution_count": 5,
   "metadata": {},
   "outputs": [],
   "source": [
    "#function to create access token\n",
    "def get_access_token(api_key):\n",
    "    import requests\n",
    "\n",
    "    # Obtain an access token using the API key\n",
    "    auth_url = \"https://iam.cloud.ibm.com/identity/token\"\n",
    "    auth_headers = {\n",
    "        \"Content-Type\": \"application/x-www-form-urlencoded\",\n",
    "        \"Accept\": \"application/json\"\n",
    "    }\n",
    "    auth_data = {\n",
    "        \"grant_type\": \"urn:ibm:params:oauth:grant-type:apikey\",\n",
    "        \"apikey\": api_key\n",
    "    }\n",
    "\n",
    "    auth_response = requests.post(auth_url, headers=auth_headers, data=auth_data)\n",
    "    if auth_response.status_code != 200:\n",
    "        raise Exception(f\"Failed to obtain access token: {auth_response.status_code} - {auth_response.text}\")\n",
    "\n",
    "    access_token = auth_response.json().get('access_token')\n",
    "\n",
    "    # Ensure the access token is available\n",
    "    if not access_token:\n",
    "        raise ValueError(\"Failed to obtain access token.\")\n",
    "    \n",
    "    return access_token\n"
   ]
  },
  {
   "cell_type": "code",
   "execution_count": 6,
   "metadata": {},
   "outputs": [],
   "source": [
    "def get_headers(api_key):\n",
    "    access_token = get_access_token(api_key)\n",
    "    headers = {\n",
    "    \"Accept\": \"application/json\",\n",
    "    \"Content-Type\": \"application/json\",\n",
    "    \"Authorization\": f\"Bearer {access_token}\"\n",
    "    }\n",
    "    return headers\n"
   ]
  },
  {
   "cell_type": "code",
   "execution_count": 7,
   "metadata": {},
   "outputs": [],
   "source": [
    "#function to show results\n",
    "def show_results(response):\n",
    "    print(response.json())\n",
    "    # Attempt to parse the response as JSON\n",
    "    try:\n",
    "        response_json = response.json()\n",
    "    except requests.exceptions.JSONDecodeError:\n",
    "        raise Exception(f\"Failed to decode JSON response: {response.text}\")\n",
    "\n",
    "    # Extract and print the generated text from the results\n",
    "    results = response_json.get('results', [])\n",
    "    if results:\n",
    "        generated_text = results[0].get('generated_text', 'No generated text found')\n",
    "        print(generated_text)\n",
    "    else:\n",
    "        print(\"No results found in the response.\")"
   ]
  },
  {
   "cell_type": "markdown",
   "metadata": {},
   "source": [
    "# IBM Watsonx  summarization example\n",
    "\n",
    "https://dataplatform.cloud.ibm.com/docs/content/wsj/analyze-data/fm-prompt-samples.html?context=wx&audience=wdp#summarization"
   ]
  },
  {
   "cell_type": "code",
   "execution_count": 12,
   "metadata": {},
   "outputs": [
    {
     "name": "stdout",
     "output_type": "stream",
     "text": [
      "results: \n",
      "\n",
      "{'model_id': 'google/flan-ul2', 'created_at': '2024-10-30T15:20:08.199Z', 'results': [{'generated_text': 'Revenue up 3% at constant currency. Operating pretax margin expanded by 85 basis points. Operating earnings per share of $1.5 was up over 7%. Free cash flow generated $2.5 billion in the quarter and $4.5 billion for the year. Full-year free cash flow is up $1 billion from last year.', 'generated_token_count': 64, 'input_token_count': 750, 'stop_reason': 'eos_token', 'seed': 0}], 'system': {'warnings': [{'message': 'This model is a Non-IBM Product governed by a third-party license that may impose use restrictions and other obligations. By using this model you agree to its terms as identified in the following URL.', 'id': 'disclaimer_warning', 'more_info': 'https://dataplatform.cloud.ibm.com/docs/content/wsj/analyze-data/fm-models.html?context=wx'}]}}\n",
      "Revenue up 3% at constant currency. Operating pretax margin expanded by 85 basis points. Operating earnings per share of $1.5 was up over 7%. Free cash flow generated $2.5 billion in the quarter and $4.5 billion for the year. Full-year free cash flow is up $1 billion from last year.\n"
     ]
    }
   ],
   "source": [
    "# API request\n",
    "import  requests\n",
    "import json\n",
    "import os\n",
    "\n",
    "url = \"https://us-south.ml.cloud.ibm.com/ml/v1/text/generation?version=2023-05-29\"\n",
    "model_id = \"google/flan-ul2\"\n",
    "\n",
    "# Get the API key & Project ID from the environment variables\n",
    "api_key = os.getenv('API_KEY')\n",
    "project_id = os.getenv('PROJECT_ID')\n",
    "\n",
    "\n",
    "body = {\n",
    "    \"input\": \"\"\"The following document is a transcript from a financial earnings call.  Read the document and then write a short 1 paragraph summary.\n",
    "\n",
    "Document: Financial Highlights\n",
    "\n",
    "I’ll start with the financial highlights of the fourth quarter. We delivered $8 billion in revenue, $1.5 billion of operating pre-tax income and operating earnings per share of $1.5. In our seasonally strongest quarter, we generated $2.5 billion of free cash flow. Our revenue for the quarter was up over three percent at constant currency. While the dollar weakened a bit from 90 days ago, it still impacted our reported revenue by over $500 million – and 3 points of growth.  Revenue growth this quarter was again broad based. Product Sales revenue was up eight percent and Services up nine percent. These are our growth vectors and represent over 35 percent of our revenue. Within each of these segments, our growth was pervasive. We also had good growth across our geographies, with mid-single digit growth or better in Americas, EMEA and Asia Pacific. And for the year, we gained share overall. We had strong transactional growth in Product Sales to close the year. At the same time, our recurring revenue, which provides a solid base of revenue and profit, also grew.  Earnings Prepared RemarksEarnings were up 8.5 percent from last year. Looking at our profit metrics for the quarter, we expanded operating pretax margin by 85 basis points. This reflects a strong portfolio mix and improving Product and Consulting margins. These same dynamics drove a 30-basis point increase in operating gross margin. Our expense was down year to year, driven by currency dynamics. Within our base expense, the work we’re doing to digitally transform our operations provides flexibility to continue to invest in innovation and in talent. Our operating tax rate was 7 percent, which is flat versus last year. And our operating earnings per share of $1.5 was up over seven percent. Turning to free cash flow, we generated $2.5 billion in the quarter and $4.5 billion for the year. Our full-year free cash flow is up $1 billion fromlast year. As we talked about all year, we have a few drivers of our free cash flow growth. We had working capital improvements driven by efficiencies in ouroperations. Despite strong collections, the combination of revenue performance above our model and the timing of the transactions in the quarter led to higher-than-expected working capital at the end of the year. This impacted our free cash flow performance versus expectations. Our year-to-year free cash flow growthalso includes a modest tailwind from cash tax payments and lower payments for structural actions, partially offset by increased capex investment.\n",
    "\n",
    "4Q Earnings Prepared RemarksWe ended the year in a strong liquidity position with cash of $4 billion. This is up over half a billion dollars year to year. And our debt balance is down nearly half a billion dollars. Our balance sheet remains strong, and I’d say the same for our retirement-related plans. At year end, our worldwide tax-qualified plansare funded at 57 percent, with the U.S. at 54 percent. Both are up year to year.  We transferred a portion of our U.S. qualified defined benefit plan obligations to insurers, without changing the benefits payable to plan participants. This resulted in a significant non-cash charge in our GAAP results in the third quarter, and we’ll see a benefit in our non-operating charges going forward.\n",
    "Summary:\"\"\",\n",
    "    \"parameters\": {\n",
    "        \"decoding_method\": \"greedy\",\n",
    "        \"max_new_tokens\": 300,\n",
    "        \"min_new_tokens\": 50,\n",
    "        \"repetition_penalty\": 2\n",
    "    },\n",
    "    \"model_id\": f\"{model_id}\",\n",
    "    \"project_id\": f\"{project_id}\",\n",
    "    \"moderations\": {\n",
    "        \"hap\": {\n",
    "            \"input\": {\n",
    "                \"enabled\": True,\n",
    "            }\n",
    "        }\n",
    "    }\n",
    "}\n",
    "\n",
    "\n",
    "response = requests.post(\n",
    "    url,\n",
    "    headers=get_headers(api_key),\n",
    "    json=body\n",
    ")\n",
    "\n",
    "# Check for non-200 response and raise an exception if found\n",
    "if response.status_code != 200:\n",
    "    raise Exception(f\"Non-200 response: {response.status_code} - {response.text}\")\n",
    "\n",
    "\n",
    "print(\"results: \\n\")\n",
    "show_results(response)\n"
   ]
  },
  {
   "cell_type": "markdown",
   "metadata": {},
   "source": [
    "## Prompting Principles\n",
    "- **Principle 1: Write clear and specific instructions**\n",
    "- **Principle 2: Give the model time to “think”**\n",
    "\n",
    "### Tactics\n",
    "\n",
    "#### Tactic 1: Use delimiters to clearly indicate distinct parts of the input\n",
    "- Delimiters can be anything like: ```, \"\"\", < >, `<tag> </tag>`, `:`"
   ]
  },
  {
   "cell_type": "code",
   "execution_count": 15,
   "metadata": {},
   "outputs": [
    {
     "name": "stdout",
     "output_type": "stream",
     "text": [
      "results: \n",
      "\n",
      "{'model_id': 'google/flan-ul2', 'created_at': '2024-10-30T15:40:19.577Z', 'results': [{'generated_text': \"Write a clear and specific prompt. Don't confuse writing a  clear prompt with writing a short prompt. In many cases, longer prompts provide more clarity  and context for the model, which can lead to  more detailed and relevant outputs.\", 'generated_token_count': 58, 'input_token_count': 135, 'stop_reason': 'eos_token', 'seed': 0}], 'system': {'warnings': [{'message': 'This model is a Non-IBM Product governed by a third-party license that may impose use restrictions and other obligations. By using this model you agree to its terms as identified in the following URL.', 'id': 'disclaimer_warning', 'more_info': 'https://dataplatform.cloud.ibm.com/docs/content/wsj/analyze-data/fm-models.html?context=wx'}]}}\n",
      "Write a clear and specific prompt. Don't confuse writing a  clear prompt with writing a short prompt. In many cases, longer prompts provide more clarity  and context for the model, which can lead to  more detailed and relevant outputs.\n"
     ]
    }
   ],
   "source": [
    "import  requests\n",
    "import json\n",
    "import os\n",
    "\n",
    "url = \"https://us-south.ml.cloud.ibm.com/ml/v1/text/generation?version=2023-05-29\"\n",
    "model_id = \"google/flan-ul2\"\n",
    "# Get the API key & Project ID from the environment variables\n",
    "api_key = os.getenv('API_KEY')\n",
    "project_id = os.getenv('PROJECT_ID')\n",
    "\n",
    "\n",
    "\n",
    "\n",
    "\n",
    "text = f\"\"\"\n",
    "You should express what you want a model to do by \\ \n",
    "providing instructions that are as clear and \\ \n",
    "specific as you can possibly make them. \\ \n",
    "This will guide the model towards the desired output, \\ \n",
    "and reduce the chances of receiving irrelevant \\ \n",
    "or incorrect responses. Don't confuse writing a \\ \n",
    "clear prompt with writing a short prompt. \\ \n",
    "In many cases, longer prompts provide more clarity \\ \n",
    "and context for the model, which can lead to \\ \n",
    "more detailed and relevant outputs.\n",
    "\"\"\"\n",
    "prompt = f\"\"\"\n",
    "Summarize the text delimited by triple backticks \\ \n",
    "into a single sentence.\n",
    "```{text}```\n",
    "\"\"\"\n",
    "\n",
    "\n",
    "body = {\n",
    "    \"input\": f\"{prompt}\",\n",
    "    \"parameters\": {\n",
    "        \"decoding_method\": \"greedy\",\n",
    "        \"max_new_tokens\": 300,\n",
    "        \"min_new_tokens\": 50,\n",
    "        \"repetition_penalty\": 2\n",
    "    },\n",
    "    \"model_id\": f\"{model_id}\",\n",
    "    \"project_id\": f\"{project_id}\",\n",
    "    \"moderations\": {\n",
    "        \"hap\": {\n",
    "            \"input\": {\n",
    "                \"enabled\": True,\n",
    "            }\n",
    "        }\n",
    "    }\n",
    "}\n",
    "\n",
    "\n",
    "response = requests.post(\n",
    "    url,\n",
    "    headers=get_headers(api_key),\n",
    "    json=body\n",
    ")\n",
    "\n",
    "# Check for non-200 response and raise an exception if found\n",
    "if response.status_code != 200:\n",
    "    raise Exception(f\"Non-200 response: {response.status_code} - {response.text}\")\n",
    "\n",
    "\n",
    "print(\"results: \\n\")\n",
    "show_results(response)"
   ]
  },
  {
   "cell_type": "markdown",
   "metadata": {},
   "source": [
    "#### Tactic 2: Ask for a structured output\n",
    "- JSON, HTML"
   ]
  },
  {
   "cell_type": "code",
   "execution_count": 16,
   "metadata": {},
   "outputs": [
    {
     "name": "stdout",
     "output_type": "stream",
     "text": [
      "results: \n",
      "\n",
      "{'model_id': 'google/flan-ul2', 'created_at': '2024-10-30T15:45:31.367Z', 'results': [{'generated_text': \"book_id, title, author, genre = ['The Book of the Dead', 'The Book of the Living', 'The Book of the Undead'];nnbook_id, title, author, genre = ['The Book of the Dead', 'The Book of the Living', 'The Book of the Undead'];n\", 'generated_token_count': 91, 'input_token_count': 45, 'stop_reason': 'eos_token', 'seed': 0}], 'system': {'warnings': [{'message': 'This model is a Non-IBM Product governed by a third-party license that may impose use restrictions and other obligations. By using this model you agree to its terms as identified in the following URL.', 'id': 'disclaimer_warning', 'more_info': 'https://dataplatform.cloud.ibm.com/docs/content/wsj/analyze-data/fm-models.html?context=wx'}]}}\n",
      "book_id, title, author, genre = ['The Book of the Dead', 'The Book of the Living', 'The Book of the Undead'];nnbook_id, title, author, genre = ['The Book of the Dead', 'The Book of the Living', 'The Book of the Undead'];n\n"
     ]
    }
   ],
   "source": [
    "prompt = f\"\"\"\n",
    "Generate a list of three made-up book titles along \\ \n",
    "with their authors and genres. \n",
    "Provide them in JSON format with the following keys: \n",
    "book_id, title, author, genre.\n",
    "\"\"\"\n",
    "\n",
    "\n",
    "body = {\n",
    "    \"input\": f\"{prompt}\",\n",
    "    \"parameters\": {\n",
    "        \"decoding_method\": \"greedy\",\n",
    "        \"max_new_tokens\": 300,\n",
    "        \"min_new_tokens\": 50,\n",
    "        \"repetition_penalty\": 2\n",
    "    },\n",
    "    \"model_id\": f\"{model_id}\",\n",
    "    \"project_id\": f\"{project_id}\",\n",
    "    \"moderations\": {\n",
    "        \"hap\": {\n",
    "            \"input\": {\n",
    "                \"enabled\": True,\n",
    "            }\n",
    "        }\n",
    "    }\n",
    "}\n",
    "\n",
    "\n",
    "response = requests.post(\n",
    "    url,\n",
    "    headers=get_headers(api_key),\n",
    "    json=body\n",
    ")\n",
    "\n",
    "# Check for non-200 response and raise an exception if found\n",
    "if response.status_code != 200:\n",
    "    raise Exception(f\"Non-200 response: {response.status_code} - {response.text}\")\n",
    "\n",
    "\n",
    "print(\"results: \\n\")\n",
    "show_results(response)"
   ]
  },
  {
   "cell_type": "markdown",
   "metadata": {},
   "source": [
    "#### Tactic 3: Ask the model to check whether conditions are satisfied"
   ]
  },
  {
   "cell_type": "code",
   "execution_count": 17,
   "metadata": {},
   "outputs": [
    {
     "name": "stdout",
     "output_type": "stream",
     "text": [
      "results: \n",
      "\n",
      "{'model_id': 'google/flan-ul2', 'created_at': '2024-10-30T15:47:36.808Z', 'results': [{'generated_text': 'Step 1 - Get some water boiling. Step 2 - Grab a cup and put a tea bag in it. Step 3 - Once the water is hot enough, just pour it over the tea bag. Step 4 - Let it sit for a bit so the tea can steep. Step 5 - After a few minutes, take out the tea bag.', 'generated_token_count': 79, 'input_token_count': 211, 'stop_reason': 'eos_token', 'seed': 0}], 'system': {'warnings': [{'message': 'This model is a Non-IBM Product governed by a third-party license that may impose use restrictions and other obligations. By using this model you agree to its terms as identified in the following URL.', 'id': 'disclaimer_warning', 'more_info': 'https://dataplatform.cloud.ibm.com/docs/content/wsj/analyze-data/fm-models.html?context=wx'}]}}\n",
      "Step 1 - Get some water boiling. Step 2 - Grab a cup and put a tea bag in it. Step 3 - Once the water is hot enough, just pour it over the tea bag. Step 4 - Let it sit for a bit so the tea can steep. Step 5 - After a few minutes, take out the tea bag.\n"
     ]
    }
   ],
   "source": [
    "text_1 = f\"\"\"\n",
    "Making a cup of tea is easy! First, you need to get some \\ \n",
    "water boiling. While that's happening, \\ \n",
    "grab a cup and put a tea bag in it. Once the water is \\ \n",
    "hot enough, just pour it over the tea bag. \\ \n",
    "Let it sit for a bit so the tea can steep. After a \\ \n",
    "few minutes, take out the tea bag. If you \\ \n",
    "like, you can add some sugar or milk to taste. \\ \n",
    "And that's it! You've got yourself a delicious \\ \n",
    "cup of tea to enjoy.\n",
    "\"\"\"\n",
    "prompt = f\"\"\"\n",
    "You will be provided with text delimited by triple quotes. \n",
    "If it contains a sequence of instructions, \\ \n",
    "re-write those instructions in the following format:\n",
    "\n",
    "Step 1 - ...\n",
    "Step 2 - …\n",
    "…\n",
    "Step N - …\n",
    "\n",
    "If the text does not contain a sequence of instructions, \\ \n",
    "then simply write \\\"No steps provided.\\\"\n",
    "\n",
    "\\\"\\\"\\\"{text_1}\\\"\\\"\\\"\n",
    "\"\"\"\n",
    "\n",
    "body = {\n",
    "    \"input\": f\"{prompt}\",\n",
    "    \"parameters\": {\n",
    "        \"decoding_method\": \"greedy\",\n",
    "        \"max_new_tokens\": 300,\n",
    "        \"min_new_tokens\": 50,\n",
    "        \"repetition_penalty\": 2\n",
    "    },\n",
    "    \"model_id\": f\"{model_id}\",\n",
    "    \"project_id\": f\"{project_id}\",\n",
    "    \"moderations\": {\n",
    "        \"hap\": {\n",
    "            \"input\": {\n",
    "                \"enabled\": True,\n",
    "            }\n",
    "        }\n",
    "    }\n",
    "}\n",
    "\n",
    "\n",
    "response = requests.post(\n",
    "    url,\n",
    "    headers=get_headers(api_key),\n",
    "    json=body\n",
    ")\n",
    "\n",
    "# Check for non-200 response and raise an exception if found\n",
    "if response.status_code != 200:\n",
    "    raise Exception(f\"Non-200 response: {response.status_code} - {response.text}\")\n",
    "\n",
    "\n",
    "print(\"results: \\n\")\n",
    "show_results(response)"
   ]
  },
  {
   "cell_type": "code",
   "execution_count": 18,
   "metadata": {},
   "outputs": [],
   "source": [
    "text_2 = f\"\"\"\n",
    "The sun is shining brightly today, and the birds are \\\n",
    "singing. It's a beautiful day to go for a \\ \n",
    "walk in the park. The flowers are blooming, and the \\ \n",
    "trees are swaying gently in the breeze. People \\ \n",
    "are out and about, enjoying the lovely weather. \\ \n",
    "Some are having picnics, while others are playing \\ \n",
    "games or simply relaxing on the grass. It's a \\ \n",
    "perfect day to spend time outdoors and appreciate the \\ \n",
    "beauty of nature.\n",
    "\"\"\"\n",
    "prompt = f\"\"\"\n",
    "You will be provided with text delimited by triple quotes. \n",
    "If it contains a sequence of instructions, \\ \n",
    "re-write those instructions in the following format:\n",
    "\n",
    "Step 1 - ...\n",
    "Step 2 - …\n",
    "…\n",
    "Step N - …\n",
    "\n",
    "If the text does not contain a sequence of instructions, \\ \n",
    "then simply write \\\"No steps provided.\\\"\n",
    "\n",
    "\\\"\\\"\\\"{text_2}\\\"\\\"\\\"\n",
    "\"\"\"\n",
    "\n",
    "\n",
    "### complete cell as above\n"
   ]
  },
  {
   "cell_type": "markdown",
   "metadata": {},
   "source": [
    "#### Tactic 4: \"Few-shot\" prompting"
   ]
  },
  {
   "cell_type": "code",
   "execution_count": 19,
   "metadata": {},
   "outputs": [],
   "source": [
    "prompt = f\"\"\"\n",
    "Your task is to answer in a consistent style.\n",
    "\n",
    "<child>: Teach me about patience.\n",
    "\n",
    "<grandparent>: The river that carves the deepest \\ \n",
    "valley flows from a modest spring; the \\ \n",
    "grandest symphony originates from a single note; \\ \n",
    "the most intricate tapestry begins with a solitary thread.\n",
    "\n",
    "<child>: Teach me about resilience.\n",
    "\"\"\"\n",
    "\n",
    "### complete cell as above"
   ]
  },
  {
   "cell_type": "markdown",
   "metadata": {},
   "source": [
    "### Principle 2: Give the model time to “think” \n",
    "\n",
    "#### Tactic 1: Specify the steps required to complete a task"
   ]
  },
  {
   "cell_type": "code",
   "execution_count": 20,
   "metadata": {},
   "outputs": [],
   "source": [
    "text = f\"\"\"\n",
    "In a charming village, siblings Jack and Jill set out on \\ \n",
    "a quest to fetch water from a hilltop \\ \n",
    "well. As they climbed, singing joyfully, misfortune \\ \n",
    "struck—Jack tripped on a stone and tumbled \\ \n",
    "down the hill, with Jill following suit. \\ \n",
    "Though slightly battered, the pair returned home to \\ \n",
    "comforting embraces. Despite the mishap, \\ \n",
    "their adventurous spirits remained undimmed, and they \\ \n",
    "continued exploring with delight.\n",
    "\"\"\"\n",
    "# example 1\n",
    "prompt_1 = f\"\"\"\n",
    "Perform the following actions: \n",
    "1 - Summarize the following text delimited by triple \\\n",
    "backticks with 1 sentence.\n",
    "2 - Translate the summary into French.\n",
    "3 - List each name in the French summary.\n",
    "4 - Output a json object that contains the following \\\n",
    "keys: french_summary, num_names.\n",
    "\n",
    "Separate your answers with line breaks.\n",
    "\n",
    "Text:\n",
    "```{text}```\n",
    "\"\"\"\n",
    "\n",
    "### Complete as above"
   ]
  },
  {
   "cell_type": "markdown",
   "metadata": {},
   "source": [
    "#### Ask for output in a specified format"
   ]
  },
  {
   "cell_type": "code",
   "execution_count": 21,
   "metadata": {},
   "outputs": [],
   "source": [
    "prompt_2 = f\"\"\"\n",
    "Your task is to perform the following actions: \n",
    "1 - Summarize the following text delimited by \n",
    "  <> with 1 sentence.\n",
    "2 - Translate the summary into French.\n",
    "3 - List each name in the French summary.\n",
    "4 - Output a json object that contains the \n",
    "  following keys: french_summary, num_names.\n",
    "\n",
    "Use the following format:\n",
    "Text: <text to summarize>\n",
    "Summary: <summary>\n",
    "Translation: <summary translation>\n",
    "Names: <list of names in summary>\n",
    "Output JSON: <json with summary and num_names>\n",
    "\n",
    "Text: <{text}>\n",
    "\"\"\"\n",
    "\n",
    "### Complete as above"
   ]
  },
  {
   "cell_type": "markdown",
   "metadata": {},
   "source": [
    "#### Tactic 2: Instruct the model to work out its own solution before rushing to a conclusion"
   ]
  },
  {
   "cell_type": "code",
   "execution_count": 22,
   "metadata": {},
   "outputs": [],
   "source": [
    "prompt = f\"\"\"\n",
    "Determine if the student's solution is correct or not.\n",
    "\n",
    "Question:\n",
    "I'm building a solar power installation and I need \\\n",
    " help working out the financials. \n",
    "- Land costs $100 / square foot\n",
    "- I can buy solar panels for $250 / square foot\n",
    "- I negotiated a contract for maintenance that will cost \\ \n",
    "me a flat $100k per year, and an additional $10 / square \\\n",
    "foot\n",
    "What is the total cost for the first year of operations \n",
    "as a function of the number of square feet.\n",
    "\n",
    "Student's Solution:\n",
    "Let x be the size of the installation in square feet.\n",
    "Costs:\n",
    "1. Land cost: 100x\n",
    "2. Solar panel cost: 250x\n",
    "3. Maintenance cost: 100,000 + 100x\n",
    "Total cost: 100x + 250x + 100,000 + 100x = 450x + 100,000\n",
    "\"\"\"\n",
    "\n",
    "### complete as above"
   ]
  },
  {
   "cell_type": "markdown",
   "metadata": {},
   "source": [
    "#### Note that the student's solution is actually not correct.\n",
    "#### We can fix this by instructing the model to work out its own solution first."
   ]
  },
  {
   "cell_type": "code",
   "execution_count": 23,
   "metadata": {},
   "outputs": [],
   "source": [
    "prompt = f\"\"\"\n",
    "Your task is to determine if the student's solution \\\n",
    "is correct or not.\n",
    "To solve the problem do the following:\n",
    "- First, work out your own solution to the problem including the final total. \n",
    "- Then compare your solution to the student's solution \\ \n",
    "and evaluate if the student's solution is correct or not. \n",
    "Don't decide if the student's solution is correct until \n",
    "you have done the problem yourself.\n",
    "\n",
    "Use the following format:\n",
    "Question:\n",
    "```\n",
    "question here\n",
    "```\n",
    "Student's solution:\n",
    "```\n",
    "student's solution here\n",
    "```\n",
    "Actual solution:\n",
    "```\n",
    "steps to work out the solution and your solution here\n",
    "```\n",
    "Is the student's solution the same as actual solution \\\n",
    "just calculated:\n",
    "```\n",
    "yes or no\n",
    "```\n",
    "Student grade:\n",
    "```\n",
    "correct or incorrect\n",
    "```\n",
    "\n",
    "Question:\n",
    "```\n",
    "I'm building a solar power installation and I need help \\\n",
    "working out the financials. \n",
    "- Land costs $100 / square foot\n",
    "- I can buy solar panels for $250 / square foot\n",
    "- I negotiated a contract for maintenance that will cost \\\n",
    "me a flat $100k per year, and an additional $10 / square \\\n",
    "foot\n",
    "What is the total cost for the first year of operations \\\n",
    "as a function of the number of square feet.\n",
    "``` \n",
    "Student's solution:\n",
    "```\n",
    "Let x be the size of the installation in square feet.\n",
    "Costs:\n",
    "1. Land cost: 100x\n",
    "2. Solar panel cost: 250x\n",
    "3. Maintenance cost: 100,000 + 100x\n",
    "Total cost: 100x + 250x + 100,000 + 100x = 450x + 100,000\n",
    "```\n",
    "Actual solution:\n",
    "\"\"\"\n",
    "\n",
    "### complete as above"
   ]
  },
  {
   "cell_type": "markdown",
   "metadata": {},
   "source": [
    "## Model Limitations: Hallucinations\n",
    "- Boie is a real company, the product name is not real."
   ]
  },
  {
   "cell_type": "code",
   "execution_count": 24,
   "metadata": {},
   "outputs": [],
   "source": [
    "prompt = f\"\"\"\n",
    "Tell me about AeroGlide UltraSlim Smart Toothbrush by Boie\n",
    "\"\"\"\n",
    "\n",
    "### complete as above"
   ]
  },
  {
   "cell_type": "markdown",
   "metadata": {},
   "source": [
    "## Try experimenting on your own!"
   ]
  },
  {
   "cell_type": "code",
   "execution_count": null,
   "metadata": {},
   "outputs": [],
   "source": []
  },
  {
   "cell_type": "markdown",
   "metadata": {},
   "source": [
    "#### A note about the backslash\n",
    "- In the course, we are using a backslash `\\` to make the text fit on the screen without inserting newline '\\n' characters.\n",
    "- GPT-3 isn't really affected whether you insert newline characters or not.  But when working with LLMs in general, you may consider whether newline characters in your prompt may affect the model's performance."
   ]
  },
  {
   "cell_type": "code",
   "execution_count": null,
   "metadata": {},
   "outputs": [],
   "source": []
  },
  {
   "cell_type": "markdown",
   "metadata": {},
   "source": [
    "# Summarizing\n",
    "In this lesson, you will summarize text with a focus on specific topics.\n",
    "\n",
    "## Setup"
   ]
  },
  {
   "cell_type": "markdown",
   "metadata": {},
   "source": [
    "## Text to summarize"
   ]
  },
  {
   "cell_type": "code",
   "execution_count": 1,
   "metadata": {},
   "outputs": [],
   "source": [
    "prod_review = \"\"\"\n",
    "Got this panda plush toy for my daughter's birthday, \\\n",
    "who loves it and takes it everywhere. It's soft and \\ \n",
    "super cute, and its face has a friendly look. It's \\ \n",
    "a bit small for what I paid though. I think there \\ \n",
    "might be other options that are bigger for the \\ \n",
    "same price. It arrived a day earlier than expected, \\ \n",
    "so I got to play with it myself before I gave it \\ \n",
    "to her.\n",
    "\"\"\""
   ]
  },
  {
   "cell_type": "markdown",
   "metadata": {},
   "source": [
    "## Summarize with a word/sentence/character limit"
   ]
  },
  {
   "cell_type": "code",
   "execution_count": 2,
   "metadata": {},
   "outputs": [],
   "source": [
    "prompt = f\"\"\"\n",
    "Your task is to generate a short summary of a product \\\n",
    "review from an ecommerce site to give feedback to the \\\n",
    "Shipping deparmtment. \n",
    "\n",
    "Summarize the review below, delimited by triple \n",
    "backticks, in at most 30 words, and focusing on any aspects \\\n",
    "that mention shipping and delivery of the product. \n",
    "\n",
    "Review: ```{prod_review}```\n",
    "\"\"\"\n",
    "\n",
    "### complete as before"
   ]
  },
  {
   "cell_type": "markdown",
   "metadata": {},
   "source": [
    "## Summarize with a focus on price and value"
   ]
  },
  {
   "cell_type": "code",
   "execution_count": 3,
   "metadata": {},
   "outputs": [],
   "source": [
    "prompt = f\"\"\"\n",
    "Your task is to generate a short summary of a product \\\n",
    "review from an ecommerce site to give feedback to the \\\n",
    "pricing deparmtment, responsible for determining the \\\n",
    "price of the product.  \n",
    "\n",
    "Summarize the review below, delimited by triple \n",
    "backticks, in at most 30 words, and focusing on any aspects \\\n",
    "that are relevant to the price and perceived value. \n",
    "\n",
    "Review: ```{prod_review}```\n",
    "\"\"\"\n",
    "\n",
    "### complete as above"
   ]
  },
  {
   "cell_type": "markdown",
   "metadata": {},
   "source": [
    "#### Comment\n",
    "- Summaries include topics that are not related to the topic of focus."
   ]
  },
  {
   "cell_type": "markdown",
   "metadata": {},
   "source": [
    "## Try \"extract\" instead of \"summarize\""
   ]
  },
  {
   "cell_type": "code",
   "execution_count": 4,
   "metadata": {},
   "outputs": [],
   "source": [
    "\n",
    "review_1 = prod_review \n",
    "\n",
    "# review for a standing lamp\n",
    "review_2 = \"\"\"\n",
    "Needed a nice lamp for my bedroom, and this one \\\n",
    "had additional storage and not too high of a price \\\n",
    "point. Got it fast - arrived in 2 days. The string \\\n",
    "to the lamp broke during the transit and the company \\\n",
    "happily sent over a new one. Came within a few days \\\n",
    "as well. It was easy to put together. Then I had a \\\n",
    "missing part, so I contacted their support and they \\\n",
    "very quickly got me the missing piece! Seems to me \\\n",
    "to be a great company that cares about their customers \\\n",
    "and products. \n",
    "\"\"\"\n",
    "\n",
    "# review for an electric toothbrush\n",
    "review_3 = \"\"\"\n",
    "My dental hygienist recommended an electric toothbrush, \\\n",
    "which is why I got this. The battery life seems to be \\\n",
    "pretty impressive so far. After initial charging and \\\n",
    "leaving the charger plugged in for the first week to \\\n",
    "condition the battery, I've unplugged the charger and \\\n",
    "been using it for twice daily brushing for the last \\\n",
    "3 weeks all on the same charge. But the toothbrush head \\\n",
    "is too small. I’ve seen baby toothbrushes bigger than \\\n",
    "this one. I wish the head was bigger with different \\\n",
    "length bristles to get between teeth better because \\\n",
    "this one doesn’t.  Overall if you can get this one \\\n",
    "around the $50 mark, it's a good deal. The manufactuer's \\\n",
    "replacements heads are pretty expensive, but you can \\\n",
    "get generic ones that're more reasonably priced. This \\\n",
    "toothbrush makes me feel like I've been to the dentist \\\n",
    "every day. My teeth feel sparkly clean! \n",
    "\"\"\"\n",
    "\n",
    "# review for a blender\n",
    "review_4 = \"\"\"\n",
    "So, they still had the 17 piece system on seasonal \\\n",
    "sale for around $49 in the month of November, about \\\n",
    "half off, but for some reason (call it price gouging) \\\n",
    "around the second week of December the prices all went \\\n",
    "up to about anywhere from between $70-$89 for the same \\\n",
    "system. And the 11 piece system went up around $10 or \\\n",
    "so in price also from the earlier sale price of $29. \\\n",
    "So it looks okay, but if you look at the base, the part \\\n",
    "where the blade locks into place doesn’t look as good \\\n",
    "as in previous editions from a few years ago, but I \\\n",
    "plan to be very gentle with it (example, I crush \\\n",
    "very hard items like beans, ice, rice, etc. in the \\ \n",
    "blender first then pulverize them in the serving size \\\n",
    "I want in the blender then switch to the whipping \\\n",
    "blade for a finer flour, and use the cross cutting blade \\\n",
    "first when making smoothies, then use the flat blade \\\n",
    "if I need them finer/less pulpy). Special tip when making \\\n",
    "smoothies, finely cut and freeze the fruits and \\\n",
    "vegetables (if using spinach-lightly stew soften the \\ \n",
    "spinach then freeze until ready for use-and if making \\\n",
    "sorbet, use a small to medium sized food processor) \\ \n",
    "that you plan to use that way you can avoid adding so \\\n",
    "much ice if at all-when making your smoothie. \\\n",
    "After about a year, the motor was making a funny noise. \\\n",
    "I called customer service but the warranty expired \\\n",
    "already, so I had to buy another one. FYI: The overall \\\n",
    "quality has gone done in these types of products, so \\\n",
    "they are kind of counting on brand recognition and \\\n",
    "consumer loyalty to maintain sales. Got it in about \\\n",
    "two days.\n",
    "\"\"\"\n",
    "\n",
    "reviews = [review_1, review_2, review_3, review_4]"
   ]
  },
  {
   "cell_type": "code",
   "execution_count": 5,
   "metadata": {},
   "outputs": [],
   "source": [
    "for i in range(len(reviews)):\n",
    "    prompt = f\"\"\"\n",
    "    Your task is to generate a short summary of a product \\ \n",
    "    review from an ecommerce site. \n",
    "\n",
    "    Summarize the review below, delimited by triple \\\n",
    "    backticks in at most 20 words. \n",
    "\n",
    "    Review: ```{reviews[i]}```\n",
    "    \"\"\""
   ]
  },
  {
   "cell_type": "markdown",
   "metadata": {},
   "source": [
    "## Try experimenting on your own!"
   ]
  },
  {
   "cell_type": "markdown",
   "metadata": {},
   "source": []
  }
 ],
 "metadata": {
  "kernelspec": {
   "display_name": "3.11",
   "language": "python",
   "name": "python3"
  },
  "language_info": {
   "codemirror_mode": {
    "name": "ipython",
    "version": 3
   },
   "file_extension": ".py",
   "mimetype": "text/x-python",
   "name": "python",
   "nbconvert_exporter": "python",
   "pygments_lexer": "ipython3",
   "version": "3.11.8"
  }
 },
 "nbformat": 4,
 "nbformat_minor": 2
}
